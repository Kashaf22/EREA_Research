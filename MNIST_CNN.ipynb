{
  "nbformat": 4,
  "nbformat_minor": 0,
  "metadata": {
    "colab": {
      "provenance": []
    },
    "kernelspec": {
      "name": "python3",
      "display_name": "Python 3"
    },
    "language_info": {
      "name": "python"
    }
  },
  "cells": [
    {
      "cell_type": "code",
      "source": [
        "import torch\n",
        "import torch.nn as nn\n",
        "import torch.optim as optim\n",
        "import torchvision\n",
        "import torchvision.transforms as transforms\n",
        "\n",
        "# Set the device to use (GPU if available, else CPU)\n",
        "device = torch.device(\"cuda\" if torch.cuda.is_available() else \"cpu\")\n",
        "\n",
        "# Load and preprocess the MNIST dataset\n",
        "transform = transforms.Compose([\n",
        "    transforms.ToTensor(),\n",
        "    transforms.Normalize((0.1307,), (0.3081,))\n",
        "])\n",
        "train_dataset = torchvision.datasets.MNIST(root='./data', train=True, download=True, transform=transform)\n",
        "test_dataset = torchvision.datasets.MNIST(root='./data', train=False, download=True, transform=transform)\n",
        "\n",
        "# Create data loaders\n",
        "batch_size = 64\n",
        "train_loader = torch.utils.data.DataLoader(train_dataset, batch_size=batch_size, shuffle=True)\n",
        "test_loader = torch.utils.data.DataLoader(test_dataset, batch_size=batch_size, shuffle=False)\n",
        "\n",
        "# Define the CNN model\n",
        "class Net(nn.Module):\n",
        "    def __init__(self):\n",
        "        super(Net, self).__init__()\n",
        "        self.conv1 = nn.Conv2d(1, 16, kernel_size=3, stride=1, padding=1)\n",
        "        self.relu1 = nn.ReLU()\n",
        "        self.pool1 = nn.MaxPool2d(kernel_size=2, stride=2)\n",
        "        self.conv2 = nn.Conv2d(16, 32, kernel_size=3, stride=1, padding=1)\n",
        "        self.relu2 = nn.ReLU()\n",
        "        self.pool2 = nn.MaxPool2d(kernel_size=2, stride=2)\n",
        "        self.fc = nn.Linear(32 * 7 * 7, 10)\n",
        "\n",
        "    def forward(self, x):\n",
        "        x = self.conv1(x)\n",
        "        x = self.relu1(x)\n",
        "        x = self.pool1(x)\n",
        "        x = self.conv2(x)\n",
        "        x = self.relu2(x)\n",
        "        x = self.pool2(x)\n",
        "        x = x.view(x.size(0), -1)\n",
        "        x = self.fc(x)\n",
        "        return x\n",
        "\n",
        "# Create an instance of the model and move it to the device\n",
        "model = Net().to(device)\n",
        "\n",
        "# Define the loss function and optimizer\n",
        "criterion = nn.CrossEntropyLoss()\n",
        "optimizer = optim.Adam(model.parameters(), lr=0.001)\n",
        "\n",
        "# Train the model\n",
        "num_epochs = 10\n",
        "for epoch in range(num_epochs):\n",
        "    model.train()\n",
        "    for images, labels in train_loader:\n",
        "        images = images.to(device)\n",
        "        labels = labels.to(device)\n",
        "\n",
        "        optimizer.zero_grad()\n",
        "        outputs = model(images)\n",
        "        loss = criterion(outputs, labels)\n",
        "        loss.backward()\n",
        "        optimizer.step()\n",
        "\n",
        "    print(f\"Epoch [{epoch+1}/{num_epochs}], Loss: {loss.item():.4f}\")\n",
        "\n",
        "# Test the model and convert classified images to vector representations\n",
        "model.eval()\n",
        "image_vectors = []\n",
        "with torch.no_grad():\n",
        "    correct = 0\n",
        "    total = 0\n",
        "    for images, labels in test_loader:\n",
        "        images = images.to(device)\n",
        "        labels = labels.to(device)\n",
        "\n",
        "        outputs = model(images)\n",
        "        _, predicted = torch.max(outputs.data, 1)\n",
        "        total += labels.size(0)\n",
        "        correct += (predicted == labels).sum().item()\n",
        "\n",
        "        # Convert classified images to vector representations\n",
        "        vectors = outputs.cpu().numpy()\n",
        "        image_vectors.extend(vectors)\n",
        "\n",
        "    accuracy = 100 * correct / total\n",
        "    print(f\"Test Accuracy: {accuracy:.2f}%\")\n",
        "\n",
        "# Print the vector representations of the first 5 images\n",
        "num_images_to_print = 5\n",
        "for i in range(num_images_to_print):\n",
        "    print(f\"Vector representation of image {i+1}: {image_vectors[i]}\")"
      ],
      "metadata": {
        "colab": {
          "base_uri": "https://localhost:8080/"
        },
        "id": "kLQd19So6IvP",
        "outputId": "de33cb9b-5d09-4130-beeb-ef78a4ed3bbf"
      },
      "execution_count": null,
      "outputs": [
        {
          "output_type": "stream",
          "name": "stdout",
          "text": [
            "Downloading http://yann.lecun.com/exdb/mnist/train-images-idx3-ubyte.gz\n",
            "Downloading http://yann.lecun.com/exdb/mnist/train-images-idx3-ubyte.gz to ./data/MNIST/raw/train-images-idx3-ubyte.gz\n"
          ]
        },
        {
          "output_type": "stream",
          "name": "stderr",
          "text": [
            "100%|██████████| 9912422/9912422 [00:00<00:00, 78221143.80it/s]\n"
          ]
        },
        {
          "output_type": "stream",
          "name": "stdout",
          "text": [
            "Extracting ./data/MNIST/raw/train-images-idx3-ubyte.gz to ./data/MNIST/raw\n",
            "\n",
            "Downloading http://yann.lecun.com/exdb/mnist/train-labels-idx1-ubyte.gz\n",
            "Downloading http://yann.lecun.com/exdb/mnist/train-labels-idx1-ubyte.gz to ./data/MNIST/raw/train-labels-idx1-ubyte.gz\n"
          ]
        },
        {
          "output_type": "stream",
          "name": "stderr",
          "text": [
            "100%|██████████| 28881/28881 [00:00<00:00, 27764312.13it/s]\n"
          ]
        },
        {
          "output_type": "stream",
          "name": "stdout",
          "text": [
            "Extracting ./data/MNIST/raw/train-labels-idx1-ubyte.gz to ./data/MNIST/raw\n",
            "\n",
            "Downloading http://yann.lecun.com/exdb/mnist/t10k-images-idx3-ubyte.gz\n",
            "Downloading http://yann.lecun.com/exdb/mnist/t10k-images-idx3-ubyte.gz to ./data/MNIST/raw/t10k-images-idx3-ubyte.gz\n"
          ]
        },
        {
          "output_type": "stream",
          "name": "stderr",
          "text": [
            "100%|██████████| 1648877/1648877 [00:00<00:00, 34029874.51it/s]\n"
          ]
        },
        {
          "output_type": "stream",
          "name": "stdout",
          "text": [
            "Extracting ./data/MNIST/raw/t10k-images-idx3-ubyte.gz to ./data/MNIST/raw\n",
            "\n",
            "Downloading http://yann.lecun.com/exdb/mnist/t10k-labels-idx1-ubyte.gz\n",
            "Downloading http://yann.lecun.com/exdb/mnist/t10k-labels-idx1-ubyte.gz to ./data/MNIST/raw/t10k-labels-idx1-ubyte.gz\n"
          ]
        },
        {
          "output_type": "stream",
          "name": "stderr",
          "text": [
            "100%|██████████| 4542/4542 [00:00<00:00, 9906671.23it/s]"
          ]
        },
        {
          "output_type": "stream",
          "name": "stdout",
          "text": [
            "Extracting ./data/MNIST/raw/t10k-labels-idx1-ubyte.gz to ./data/MNIST/raw\n",
            "\n"
          ]
        },
        {
          "output_type": "stream",
          "name": "stderr",
          "text": [
            "\n"
          ]
        },
        {
          "output_type": "stream",
          "name": "stdout",
          "text": [
            "Epoch [1/10], Loss: 0.2618\n",
            "Epoch [2/10], Loss: 0.0310\n",
            "Epoch [3/10], Loss: 0.0163\n",
            "Epoch [4/10], Loss: 0.2157\n",
            "Epoch [5/10], Loss: 0.0134\n",
            "Epoch [6/10], Loss: 0.1160\n",
            "Epoch [7/10], Loss: 0.0039\n",
            "Epoch [8/10], Loss: 0.0665\n",
            "Epoch [9/10], Loss: 0.0072\n",
            "Epoch [10/10], Loss: 0.0030\n",
            "Test Accuracy: 98.86%\n",
            "Vector representation of image 1: [-21.066765   -6.879763   -6.355869    1.9802029 -11.591761   -7.4443054\n",
            " -41.06301    19.204853  -10.406628    3.9379368]\n",
            "Vector representation of image 2: [ -9.252592   -2.394763   14.678845  -13.926844  -18.01803   -16.91106\n",
            "  -7.3153124 -21.473885   -6.6277795  -8.591769 ]\n",
            "Vector representation of image 3: [-11.287099    11.813167    -6.1603913   -9.649429     0.17907226\n",
            "  -2.452532   -10.487567    -1.1455851   -3.6930108   -5.745078  ]\n",
            "Vector representation of image 4: [ 15.835983  -30.700287   -5.9191003 -11.037349  -16.488546   -5.3912835\n",
            "   1.7175869  -7.47911    -4.228919   -6.6101165]\n",
            "Vector representation of image 5: [-13.607168   -22.413736   -14.923964   -14.275178    15.972704\n",
            " -12.452628   -14.9262085  -11.684353    -5.633106    -0.44560865]\n"
          ]
        }
      ]
    },
    {
      "cell_type": "code",
      "source": [
        "# Test the model and convert classified images to vector representations\n",
        "model.eval()\n",
        "image_vectors = []\n",
        "actual_labels = []\n",
        "predicted_labels = []\n",
        "with torch.no_grad():\n",
        "    correct = 0\n",
        "    total = 0\n",
        "    for images, labels in test_loader:\n",
        "        images = images.to(device)\n",
        "        labels = labels.to(device)\n",
        "\n",
        "        outputs = model(images)\n",
        "        _, predicted = torch.max(outputs.data, 1)\n",
        "        total += labels.size(0)\n",
        "        correct += (predicted == labels).sum().item()\n",
        "\n",
        "        # Convert classified images to vector representations\n",
        "        vectors = outputs.cpu().numpy()\n",
        "        image_vectors.extend(vectors)\n",
        "\n",
        "        # Store the actual labels and predicted labels\n",
        "        actual_labels.extend(labels.cpu().numpy())\n",
        "        predicted_labels.extend(predicted.cpu().numpy())\n",
        "\n",
        "    accuracy = 100 * correct / total\n",
        "    print(f\"Test Accuracy: {accuracy:.2f}%\")\n",
        "\n",
        "# Print the vector representations, actual labels, and predicted labels of the first 5 images\n",
        "num_images_to_print = 5\n",
        "for i in range(num_images_to_print):\n",
        "    print(f\"Image {i+1}:\")\n",
        "    print(f\"  Actual Label: {actual_labels[i]}\")\n",
        "    print(f\"  Predicted Label: {predicted_labels[i]}\")\n",
        "    print(f\"  Vector Representation: {image_vectors[i]}\")\n",
        "    print()"
      ],
      "metadata": {
        "colab": {
          "base_uri": "https://localhost:8080/"
        },
        "id": "qAmzdMdZ8ydB",
        "outputId": "42cc5850-8dce-4f97-c05b-f80f01266070"
      },
      "execution_count": null,
      "outputs": [
        {
          "output_type": "stream",
          "name": "stdout",
          "text": [
            "Test Accuracy: 98.86%\n",
            "Image 1:\n",
            "  Actual Label: 7\n",
            "  Predicted Label: 7\n",
            "  Vector Representation: [-21.066765   -6.879763   -6.355869    1.9802029 -11.591761   -7.4443054\n",
            " -41.06301    19.204853  -10.406628    3.9379368]\n",
            "\n",
            "Image 2:\n",
            "  Actual Label: 2\n",
            "  Predicted Label: 2\n",
            "  Vector Representation: [ -9.252592   -2.394763   14.678845  -13.926844  -18.01803   -16.91106\n",
            "  -7.3153124 -21.473885   -6.6277795  -8.591769 ]\n",
            "\n",
            "Image 3:\n",
            "  Actual Label: 1\n",
            "  Predicted Label: 1\n",
            "  Vector Representation: [-11.287099    11.813167    -6.1603913   -9.649429     0.17907226\n",
            "  -2.452532   -10.487567    -1.1455851   -3.6930108   -5.745078  ]\n",
            "\n",
            "Image 4:\n",
            "  Actual Label: 0\n",
            "  Predicted Label: 0\n",
            "  Vector Representation: [ 15.835983  -30.700287   -5.9191003 -11.037349  -16.488546   -5.3912835\n",
            "   1.7175869  -7.47911    -4.228919   -6.6101165]\n",
            "\n",
            "Image 5:\n",
            "  Actual Label: 4\n",
            "  Predicted Label: 4\n",
            "  Vector Representation: [-13.607168   -22.413736   -14.923964   -14.275178    15.972704\n",
            " -12.452628   -14.9262085  -11.684353    -5.633106    -0.44560865]\n",
            "\n"
          ]
        }
      ]
    }
  ]
}