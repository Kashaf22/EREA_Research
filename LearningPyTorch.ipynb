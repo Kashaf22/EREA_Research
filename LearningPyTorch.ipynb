{
  "nbformat": 4,
  "nbformat_minor": 0,
  "metadata": {
    "colab": {
      "provenance": [],
      "authorship_tag": "ABX9TyPrPFrWd6cAq7TUMCocr8qe",
      "include_colab_link": true
    },
    "kernelspec": {
      "name": "python3",
      "display_name": "Python 3"
    },
    "language_info": {
      "name": "python"
    }
  },
  "cells": [
    {
      "cell_type": "markdown",
      "metadata": {
        "id": "view-in-github",
        "colab_type": "text"
      },
      "source": [
        "<a href=\"https://colab.research.google.com/github/Kashaf22/EREA_Research/blob/main/LearningPyTorch.ipynb\" target=\"_parent\"><img src=\"https://colab.research.google.com/assets/colab-badge.svg\" alt=\"Open In Colab\"/></a>"
      ]
    },
    {
      "cell_type": "code",
      "execution_count": 1,
      "metadata": {
        "id": "wsk1fja5IqIt"
      },
      "outputs": [],
      "source": [
        "import torch\n",
        "import numpy as np"
      ]
    },
    {
      "cell_type": "code",
      "source": [
        "data = [[1,2], [4,5]]\n",
        "x_data = np.array(data);\n",
        "print(x_data);\n",
        "tensor_data = torch.from_numpy(x_data);\n",
        "print(tensor_data)\n",
        "tensor_data1 = torch.tensor(data);\n",
        "print(tensor_data1);"
      ],
      "metadata": {
        "colab": {
          "base_uri": "https://localhost:8080/"
        },
        "id": "O5cRzRg1IuHe",
        "outputId": "62914569-afde-443c-8629-827edfa5a04e"
      },
      "execution_count": 2,
      "outputs": [
        {
          "output_type": "stream",
          "name": "stdout",
          "text": [
            "[[1 2]\n",
            " [4 5]]\n",
            "tensor([[1, 2],\n",
            "        [4, 5]])\n",
            "tensor([[1, 2],\n",
            "        [4, 5]])\n"
          ]
        }
      ]
    },
    {
      "cell_type": "markdown",
      "source": [
        "Check how Tensor inherits the properties of the arguments.Notice in the argument you can only pass a tensor not a regular list or ndarray"
      ],
      "metadata": {
        "id": "3Ko4i5yBKAWF"
      }
    },
    {
      "cell_type": "code",
      "source": [
        "ones_data = torch.ones_like(tensor_data)\n",
        "print(ones_data)\n",
        "ones_data = torch.ones_like(tensor_data, dtype=torch.float)\n",
        "print(ones_data)"
      ],
      "metadata": {
        "colab": {
          "base_uri": "https://localhost:8080/"
        },
        "id": "ZWyxZxzoKVEY",
        "outputId": "81e81e74-18e7-441d-a663-1f1f4fe11223"
      },
      "execution_count": 3,
      "outputs": [
        {
          "output_type": "stream",
          "name": "stdout",
          "text": [
            "tensor([[1, 1],\n",
            "        [1, 1]])\n",
            "tensor([[1., 1.],\n",
            "        [1., 1.]])\n"
          ]
        }
      ]
    },
    {
      "cell_type": "markdown",
      "source": [
        "Check how you can use shape to implemenet tensors\n"
      ],
      "metadata": {
        "id": "sDnD7uLLLVmH"
      }
    },
    {
      "cell_type": "code",
      "source": [
        "shape = (2,3)\n",
        "data = torch.rand(shape)\n",
        "print(data)"
      ],
      "metadata": {
        "colab": {
          "base_uri": "https://localhost:8080/"
        },
        "id": "lC9fKX0gLZft",
        "outputId": "6eb9aa1e-fe2a-49d4-b624-9b82bcb58e6e"
      },
      "execution_count": 4,
      "outputs": [
        {
          "output_type": "stream",
          "name": "stdout",
          "text": [
            "tensor([[0.9452, 0.6639, 0.6600],\n",
            "        [0.4173, 0.7995, 0.5452]])\n"
          ]
        }
      ]
    },
    {
      "cell_type": "markdown",
      "source": [
        "How to move Tensor to a GPU from a CPU. Remember GPU helps in better performance"
      ],
      "metadata": {
        "id": "YXf38_tUL-Vk"
      }
    },
    {
      "cell_type": "code",
      "source": [
        "print(f\"Tensor is running on: \\n {data.device} \\n\")\n",
        "if torch.cuda.is_available():\n",
        "  data = data.to('cuda')\n",
        "  print(f\"Now Tensor is on: \\n {data.device} \\n\")"
      ],
      "metadata": {
        "colab": {
          "base_uri": "https://localhost:8080/"
        },
        "id": "9eV6QVzbMLiG",
        "outputId": "d4096779-1269-4188-9401-7a5ca0cd0625"
      },
      "execution_count": 5,
      "outputs": [
        {
          "output_type": "stream",
          "name": "stdout",
          "text": [
            "Tensor is running on: \n",
            " cpu \n",
            "\n"
          ]
        }
      ]
    },
    {
      "cell_type": "markdown",
      "source": [
        "Baisc Operations on Tensors\n"
      ],
      "metadata": {
        "id": "fJQ5aZu_NZlM"
      }
    },
    {
      "cell_type": "code",
      "source": [
        "tensor = torch.ones(3,3)\n",
        "tensor[:,1] = -5\n",
        "print(tensor)"
      ],
      "metadata": {
        "colab": {
          "base_uri": "https://localhost:8080/"
        },
        "id": "LWh9JplzNcv8",
        "outputId": "95f9279a-395c-4e89-aee0-4d170fce75d4"
      },
      "execution_count": 6,
      "outputs": [
        {
          "output_type": "stream",
          "name": "stdout",
          "text": [
            "tensor([[ 1., -5.,  1.],\n",
            "        [ 1., -5.,  1.],\n",
            "        [ 1., -5.,  1.]])\n"
          ]
        }
      ]
    },
    {
      "cell_type": "markdown",
      "source": [
        "How to concatenate the tensors together"
      ],
      "metadata": {
        "id": "M1Gkx1uYPy-J"
      }
    },
    {
      "cell_type": "code",
      "source": [
        "data2 = ([1,2,3], [1,2,6])\n",
        "tensor_concat = torch.tensor(data2)\n",
        "concat = torch.cat([tensor_concat, tensor_concat, tensor_concat], dim=0)\n",
        "print(concat)"
      ],
      "metadata": {
        "colab": {
          "base_uri": "https://localhost:8080/"
        },
        "id": "TWRzA56IP6if",
        "outputId": "8790cc2d-0f74-4e63-e029-d095467dcb54"
      },
      "execution_count": 7,
      "outputs": [
        {
          "output_type": "stream",
          "name": "stdout",
          "text": [
            "tensor([[1, 2, 3],\n",
            "        [1, 2, 6],\n",
            "        [1, 2, 3],\n",
            "        [1, 2, 6],\n",
            "        [1, 2, 3],\n",
            "        [1, 2, 6]])\n"
          ]
        }
      ]
    },
    {
      "cell_type": "markdown",
      "source": [
        "How to calculate the simple multiplication of two tensors. Each corresponding element is multiplied by itself"
      ],
      "metadata": {
        "id": "KZ9CNgsl3UxO"
      }
    },
    {
      "cell_type": "code",
      "source": [
        "tensorM = tensor_concat.mul(tensor_concat);\n",
        "print(tensorM)"
      ],
      "metadata": {
        "colab": {
          "base_uri": "https://localhost:8080/"
        },
        "id": "qBQnXsIu3lZg",
        "outputId": "342d4b7e-f05d-4859-c140-ea7fd7b47c14"
      },
      "execution_count": 10,
      "outputs": [
        {
          "output_type": "stream",
          "name": "stdout",
          "text": [
            "tensor([[ 1,  4,  9],\n",
            "        [ 1,  4, 36]])\n"
          ]
        }
      ]
    },
    {
      "cell_type": "markdown",
      "source": [
        "How to add the inplace addition to tensors"
      ],
      "metadata": {
        "id": "GNmtvxjE6wBg"
      }
    },
    {
      "cell_type": "code",
      "source": [
        "tensorIP = concat.add_(2);\n",
        "print(tensorIP);"
      ],
      "metadata": {
        "colab": {
          "base_uri": "https://localhost:8080/"
        },
        "id": "QeWXhliq6-NG",
        "outputId": "f3f68683-8d1a-4247-fd07-6233cc97c25b"
      },
      "execution_count": 15,
      "outputs": [
        {
          "output_type": "stream",
          "name": "stdout",
          "text": [
            "tensor([[3, 4, 5],\n",
            "        [3, 4, 8],\n",
            "        [3, 4, 5],\n",
            "        [3, 4, 8],\n",
            "        [3, 4, 5],\n",
            "        [3, 4, 8]])\n"
          ]
        }
      ]
    },
    {
      "cell_type": "markdown",
      "source": [
        "Tensor to Numpy\n",
        "** If Tensor and Numpy exist on the same CPU, they can share some memory locations so chaning tensor can affect numpy as well"
      ],
      "metadata": {
        "id": "i2NIHO4a7yGS"
      }
    },
    {
      "cell_type": "code",
      "source": [
        "x = torch.ones(4);\n",
        "print(x);\n",
        "y = x.numpy()\n",
        "print(y);"
      ],
      "metadata": {
        "colab": {
          "base_uri": "https://localhost:8080/"
        },
        "id": "gOJt2WK57--_",
        "outputId": "149935ca-2a43-41b7-c859-4e75c09bdf01"
      },
      "execution_count": 16,
      "outputs": [
        {
          "output_type": "stream",
          "name": "stdout",
          "text": [
            "tensor([1., 1., 1., 1.])\n",
            "[1. 1. 1. 1.]\n"
          ]
        }
      ]
    },
    {
      "cell_type": "code",
      "source": [
        "x = x.add_(3);\n",
        "print(x);\n",
        "print(y);"
      ],
      "metadata": {
        "colab": {
          "base_uri": "https://localhost:8080/"
        },
        "id": "-J8kqphT8RZ2",
        "outputId": "9f2262c1-4f4d-4760-ce21-0a16264372a4"
      },
      "execution_count": 17,
      "outputs": [
        {
          "output_type": "stream",
          "name": "stdout",
          "text": [
            "tensor([4., 4., 4., 4.])\n",
            "[4. 4. 4. 4.]\n"
          ]
        }
      ]
    },
    {
      "cell_type": "markdown",
      "source": [
        "Numpy to Tensor"
      ],
      "metadata": {
        "id": "fe0TUAq78fBp"
      }
    },
    {
      "cell_type": "code",
      "source": [
        "n = np.ones(5)\n",
        "t = torch.from_numpy(n)\n"
      ],
      "metadata": {
        "id": "g-qwfiYM8h7m"
      },
      "execution_count": 19,
      "outputs": []
    }
  ]
}